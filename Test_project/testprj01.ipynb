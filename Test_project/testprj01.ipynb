{
 "cells": [
  {
   "cell_type": "code",
   "execution_count": 1,
   "id": "68529bb6",
   "metadata": {},
   "outputs": [],
   "source": [
    "import numpy as np"
   ]
  },
  {
   "cell_type": "code",
   "execution_count": 2,
   "id": "beffb0d1",
   "metadata": {},
   "outputs": [
    {
     "name": "stdout",
     "output_type": "stream",
     "text": [
      "test1\n"
     ]
    }
   ],
   "source": [
    "print('test1')"
   ]
  },
  {
   "cell_type": "code",
   "execution_count": 3,
   "id": "50e5bb2d",
   "metadata": {},
   "outputs": [
    {
     "name": "stdout",
     "output_type": "stream",
     "text": [
      "tset2\n"
     ]
    }
   ],
   "source": [
    "print('tset2')"
   ]
  },
  {
   "cell_type": "code",
   "execution_count": 4,
   "id": "23b34587",
   "metadata": {},
   "outputs": [
    {
     "name": "stdout",
     "output_type": "stream",
     "text": [
      "test3\n"
     ]
    }
   ],
   "source": [
    "print('test3')"
   ]
  },
  {
   "cell_type": "code",
   "execution_count": 5,
   "id": "cafe633c",
   "metadata": {},
   "outputs": [
    {
     "name": "stdout",
     "output_type": "stream",
     "text": [
      "test5\n"
     ]
    }
   ],
   "source": [
    "print('test5')"
   ]
  },
  {
   "cell_type": "code",
   "execution_count": 6,
   "id": "ae5f41b3",
   "metadata": {},
   "outputs": [
    {
     "name": "stdout",
     "output_type": "stream",
     "text": [
      "test4\n"
     ]
    }
   ],
   "source": [
    "print(\"test4\")"
   ]
  },
  {
   "cell_type": "markdown",
   "id": "61bf841e",
   "metadata": {},
   "source": [
    "### 이것은 헤더입니다."
   ]
  },
  {
   "cell_type": "markdown",
   "id": "dfdfb10f",
   "metadata": {},
   "source": [
    "**강조 텍스트 입니다.**"
   ]
  },
  {
   "cell_type": "markdown",
   "id": "673021bc",
   "metadata": {},
   "source": [
    "### numpy 기초 테스트"
   ]
  },
  {
   "cell_type": "markdown",
   "id": "c2d5cef4",
   "metadata": {},
   "source": [
    "**ndarray 생성 실습**\n",
    "* ndarray.array로 생성\n",
    "* 다음 테스트"
   ]
  },
  {
   "cell_type": "code",
   "execution_count": 7,
   "id": "ef8a2285",
   "metadata": {},
   "outputs": [
    {
     "data": {
      "text/plain": [
       "(array([1., 0., 0., 1., 0., 0., 1., 0., 0., 1.]),\n",
       " array([1. , 1.3, 1.6, 1.9, 2.2, 2.5, 2.8, 3.1, 3.4, 3.7, 4. ]),\n",
       " <BarContainer object of 10 artists>)"
      ]
     },
     "execution_count": 7,
     "metadata": {},
     "output_type": "execute_result"
    },
    {
     "data": {
      "image/png": "[encoded data removed]",
      "text/plain": [
       "<Figure size 640x480 with 1 Axes>"
      ]
     },
     "metadata": {},
     "output_type": "display_data"
    }
   ],
   "source": [
    "import numpy as np\n",
    "import matplotlib.pyplot as plt\n",
    "%matplotlib inline\n",
    "\n",
    "array1 = np.array([1,2,3,4])\n",
    "plt.hist(array1)"
   ]
  },
  {
   "cell_type": "code",
   "execution_count": null,
   "id": "37e231c5",
   "metadata": {},
   "outputs": [],
   "source": []
  }
 ],
 "metadata": {
  "kernelspec": {
   "display_name": "machine",
   "language": "python",
   "name": "machine"
  },
  "language_info": {
   "codemirror_mode": {
    "name": "ipython",
    "version": 3
   },
   "file_extension": ".py",
   "mimetype": "text/x-python",
   "name": "python",
   "nbconvert_exporter": "python",
   "pygments_lexer": "ipython3",
   "version": "3.9.7"
  }
 },
 "nbformat": 4,
 "nbformat_minor": 5
}
